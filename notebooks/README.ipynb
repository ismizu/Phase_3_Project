{
 "cells": [
  {
   "cell_type": "markdown",
   "metadata": {},
   "source": [
    "# Predicting Speed Dating Outcomes"
   ]
  },
  {
   "cell_type": "markdown",
   "metadata": {},
   "source": [
    "## Overview"
   ]
  },
  {
   "cell_type": "markdown",
   "metadata": {},
   "source": [
    "In this project we conduct exploratory data analysis to narrow down and clean features for prediction via machine learning.\n",
    "\n",
    "The data we work with represents four minute dates between individuals during speed dating events between the years of 2002 and 2004. A total of twenty-two waves were held and participants filled out surveys before, during, and after their dates."
   ]
  },
  {
   "attachments": {},
   "cell_type": "markdown",
   "metadata": {},
   "source": [
    "![alexander-sinn-KgLtFCgfC28-unsplash.jpg](https://raw.githubusercontent.com/ismizu/Phase_3_Project/main/images/alexander-sinn-KgLtFCgfC28-unsplash.jpg)"
   ]
  },
  {
   "cell_type": "markdown",
   "metadata": {},
   "source": [
    "<center>\n",
    "    Image by\n",
    "    <a href = https://unsplash.com/@swimstaralex>Alexander Sinn</a>\n",
    "    from\n",
    "    <a href = https://unsplash.com>Unsplash</a>\n",
    "</center>"
   ]
  },
  {
   "cell_type": "markdown",
   "metadata": {},
   "source": [
    "## Data Structure"
   ]
  },
  {
   "cell_type": "markdown",
   "metadata": {},
   "source": [
    "All notebooks can be found in the /notebooks folder.\n",
    "- Data insights can be found in the Business_Insights notebook\n",
    "- EDA and modeling can be found in the Modeling notebooks\n",
    "\n",
    "\n",
    "Data can be found in the /data folder. Obtained from [Kaggle.com](https://www.kaggle.com/annavictoria/speed-dating-experiment)\n",
    "\n",
    "\n",
    "All images can be found in the /images folder.\n",
    "\n",
    "\n",
    "[Business Insights Presentation](https://docs.google.com/presentation/d/1D584urKrCWcNV2nkgPIlVxCe3ZPuJ7dHYZYQXkUSxmQ/edit?usp=sharing)\n",
    "\n",
    "Contributors:\n",
    "- [Isana Mizuma](https://github.com/ismizu)\n",
    "- [Tyrell Jackson](https://github.com/Tyronious25)"
   ]
  },
  {
   "cell_type": "markdown",
   "metadata": {},
   "source": [
    "## Primary Focus"
   ]
  },
  {
   "cell_type": "markdown",
   "metadata": {},
   "source": [
    "Our primary focus is to:\n",
    "1. Evaluate our data\n",
    "2. Clean our data into a useable format\n",
    "3. Compare/contrast models to narrow down the best choice"
   ]
  },
  {
   "cell_type": "markdown",
   "metadata": {},
   "source": [
    "<h1 align = 'center'> Business Analysis </h1>"
   ]
  },
  {
   "cell_type": "markdown",
   "metadata": {},
   "source": [
    "One of the first items we looked into was the distribution of stated goals in participants, split by gender."
   ]
  },
  {
   "attachments": {},
   "cell_type": "markdown",
   "metadata": {},
   "source": [
    "![goals.png](https://raw.githubusercontent.com/ismizu/Phase_3_Project/main/images/goals.png)"
   ]
  },
  {
   "cell_type": "markdown",
   "metadata": {},
   "source": [
    "Looking at the graph above, we see that the distribution is generally the same between both sexes. \n",
    "\n",
    "With a large majority, attending the event because it seemed fun has an almost equal percentage. In addition, both sexes had their goal as meeting new people as the second highest rated goal although women did have a notably higher percentage in this area than men.\n",
    "\n",
    "However, one notable difference is in those who stated their goal as \"Get a Date.\" Seeing this imbalance, we take a closer look and find that just over twice as many men are looking to date as compared to women."
   ]
  },
  {
   "cell_type": "markdown",
   "metadata": {},
   "source": [
    "When we look at the percentage of those looking for a date, we find that the percent of men is more than twice that when compared to women.\n",
    "\n",
    "For a speed dating event, there is a surprisingly low percentage of individuals actually looking for a date. In addition, there is a large imbalance between the sexes.\n",
    "\n",
    "As such, we take a look at how the sexes rate the following:\n",
    "- What they stated they looked for in potential dates\n",
    "- What they actually went for in potential dates"
   ]
  },
  {
   "attachments": {},
   "cell_type": "markdown",
   "metadata": {},
   "source": [
    "![stated_vs_actual.png](https://raw.githubusercontent.com/ismizu/Phase_3_Project/main/images/stated_vs_actual.png)"
   ]
  },
  {
   "cell_type": "markdown",
   "metadata": {},
   "source": [
    "Within the stated interests, we can see that men rated attraction as the trait they most look for, with intelligence coming in second. Women rated the attributes relatively equally with intelligence, fun, and sincerity rating the highest overall.\n",
    "\n",
    "However, when we look at the actual interests the ratings change quite a bit. On the right side we graph how men and women felt about their actual matches. Despite the way both men and women stated their interests, attraction came out as, by far, the most influential factor in their initial decision."
   ]
  },
  {
   "cell_type": "markdown",
   "metadata": {},
   "source": [
    "<h1 align = 'center'> Modeling Process </h1>"
   ]
  },
  {
   "cell_type": "markdown",
   "metadata": {},
   "source": [
    "After data cleaning, we begin some preliminary modeling. Primarily, a base logistic regression model to serve as our base. The first step is to investigate feature correlation with our target 'dec'"
   ]
  },
  {
   "attachments": {},
   "cell_type": "markdown",
   "metadata": {},
   "source": [
    "![base_model_perform.png](https://raw.githubusercontent.com/ismizu/Phase_3_Project/main/images/base_model_perform.png)"
   ]
  },
  {
   "cell_type": "markdown",
   "metadata": {},
   "source": [
    "Our base model shows a 64% accuracy in predicting that an individual would want to date another. \n",
    "\n",
    "This means that our model can only correctly identify an individual's interest in dating 64% of the time.\n",
    "\n",
    "With this score, and the low correlation of our features with the target variable, we take a look at a few other models."
   ]
  },
  {
   "attachments": {},
   "cell_type": "markdown",
   "metadata": {},
   "source": [
    "![all_base.png](https://raw.githubusercontent.com/ismizu/Phase_3_Project/main/images/all_base.png)"
   ]
  },
  {
   "cell_type": "markdown",
   "metadata": {},
   "source": [
    "Looking at the scores, there is some improvement in scores. However, the models', particularly KNearestNeighbor, hyperparameters are causing quite a bit of overfitting. We will have to revisit both the parameters as well as the data to fix this issue.\n",
    "\n",
    "However, we do note that the scores did not improve by much, leading us to believe that continued cleaning/tuning may not result in the .75 accuracy we are looking for. Running Random Forest with grid search resulted in a .70 accuracy, however the recall dropped quite a bit, showing that it was more accurate at predicting 0's, but fell in its predictions for 1's.\n",
    "For our predictions, we are placing a heavier weight into predicting 1's, or yes', so this model may not be feasible as well."
   ]
  },
  {
   "cell_type": "markdown",
   "metadata": {},
   "source": [
    "At this point, we decided to take a look at how the date itself influences ones decision, rather than predictions based solely on pre-date factors."
   ]
  },
  {
   "cell_type": "markdown",
   "metadata": {},
   "source": [
    "# Modeling with Post Date Survey Data"
   ]
  },
  {
   "attachments": {},
   "cell_type": "markdown",
   "metadata": {},
   "source": [
    "![during_date.png](https://raw.githubusercontent.com/ismizu/Phase_3_Project/main/images/during_date.png)"
   ]
  },
  {
   "cell_type": "markdown",
   "metadata": {},
   "source": [
    "Using only the eight columns containing how the individual rated their partner during the four minute date, we were able to achieve exactly the .75 we were looking for.\n",
    "\n",
    "As defined in our Business Case notebook, depending on gender, there were notable differences between what an individual stated they wanted, and what how they rated partners that they identified positively with. We can see this in the model predictions. Despite our best efforts, our accuracy remains quite low when only utilizing pre-date information."
   ]
  },
  {
   "cell_type": "markdown",
   "metadata": {},
   "source": [
    "With this, we realize that what is most important in bringing the two individuals together in the first place. Due to stark differences in what an individual believes they want compared to how they view those same traits during the date, a pre-date prediction performs minimally better than flipping a coin.\n",
    "\n",
    "\n",
    "Knowing this, we take one more look at the data. This time, we explore the effect of physical attraction as our investigation into various insights showed this mattered greatly, regardless of whether the individual rated it as important or not."
   ]
  },
  {
   "cell_type": "markdown",
   "metadata": {},
   "source": [
    "# Physical Attraction based Prediction"
   ]
  },
  {
   "cell_type": "markdown",
   "metadata": {},
   "source": [
    "After isolating physical attraction, we run the model to view its effects."
   ]
  },
  {
   "attachments": {},
   "cell_type": "markdown",
   "metadata": {},
   "source": [
    "![all_bases.png](https://raw.githubusercontent.com/ismizu/Phase_3_Project/main/images/all_bases.png)"
   ]
  },
  {
   "cell_type": "markdown",
   "metadata": {},
   "source": [
    "Using only the physical attraction that the individual felt, we are able to get very close to our prediction based on all during-date attribute ratings and we are not too far off from our both_dataframes_base_model.\n",
    "\n",
    "As such, we come to the conclusion that one of the most important aspects to engaging with another individual is perceived physical attraction.\n",
    "\n",
    "Blind dating applications where individuals cannot see each other before engaging may be met with limited success as a result. What is most important is that individuals have the chance to view each other through profile pictures, galleries, etc and have the chance to judge their physical attraction to each other."
   ]
  }
 ],
 "metadata": {
  "kernelspec": {
   "display_name": "Python 3",
   "language": "python",
   "name": "python3"
  },
  "language_info": {
   "codemirror_mode": {
    "name": "ipython",
    "version": 3
   },
   "file_extension": ".py",
   "mimetype": "text/x-python",
   "name": "python",
   "nbconvert_exporter": "python",
   "pygments_lexer": "ipython3",
   "version": "3.8.5"
  },
  "toc": {
   "base_numbering": 1,
   "nav_menu": {},
   "number_sections": true,
   "sideBar": true,
   "skip_h1_title": false,
   "title_cell": "Table of Contents",
   "title_sidebar": "Contents",
   "toc_cell": false,
   "toc_position": {},
   "toc_section_display": true,
   "toc_window_display": false
  },
  "varInspector": {
   "cols": {
    "lenName": 16,
    "lenType": 16,
    "lenVar": 40
   },
   "kernels_config": {
    "python": {
     "delete_cmd_postfix": "",
     "delete_cmd_prefix": "del ",
     "library": "var_list.py",
     "varRefreshCmd": "print(var_dic_list())"
    },
    "r": {
     "delete_cmd_postfix": ") ",
     "delete_cmd_prefix": "rm(",
     "library": "var_list.r",
     "varRefreshCmd": "cat(var_dic_list()) "
    }
   },
   "types_to_exclude": [
    "module",
    "function",
    "builtin_function_or_method",
    "instance",
    "_Feature"
   ],
   "window_display": false
  }
 },
 "nbformat": 4,
 "nbformat_minor": 4
}
